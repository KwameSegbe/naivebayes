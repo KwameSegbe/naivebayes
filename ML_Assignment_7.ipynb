{
  "nbformat": 4,
  "nbformat_minor": 0,
  "metadata": {
    "colab": {
      "provenance": []
    },
    "kernelspec": {
      "name": "ir",
      "display_name": "R"
    },
    "language_info": {
      "name": "R"
    }
  },
  "cells": [
    {
      "cell_type": "markdown",
      "source": [
        "# Assignment Number: 7\n",
        "# Names: Francis Kwame Segbe & Sanyuja Kadam"
      ],
      "metadata": {
        "id": "JJ0I5w2RAZHx"
      }
    },
    {
      "cell_type": "code",
      "source": [
        "install.packages(\"caret\")"
      ],
      "metadata": {
        "colab": {
          "base_uri": "https://localhost:8080/"
        },
        "id": "ybSXmH6vFsWu",
        "outputId": "d4fd6b2b-30e6-442c-e97c-f6fb89ec8f21"
      },
      "execution_count": 77,
      "outputs": [
        {
          "output_type": "stream",
          "name": "stderr",
          "text": [
            "Installing package into ‘/usr/local/lib/R/site-library’\n",
            "(as ‘lib’ is unspecified)\n",
            "\n",
            "also installing the dependencies ‘listenv’, ‘parallelly’, ‘future’, ‘globals’, ‘future.apply’, ‘numDeriv’, ‘progressr’, ‘SQUAREM’, ‘lava’, ‘prodlim’, ‘proxy’, ‘iterators’, ‘Rcpp’, ‘clock’, ‘gower’, ‘hardhat’, ‘ipred’, ‘timeDate’, ‘e1071’, ‘foreach’, ‘ModelMetrics’, ‘plyr’, ‘pROC’, ‘recipes’, ‘reshape2’\n",
            "\n",
            "\n"
          ]
        }
      ]
    },
    {
      "cell_type": "code",
      "source": [
        "library(caret)"
      ],
      "metadata": {
        "colab": {
          "base_uri": "https://localhost:8080/"
        },
        "id": "mq9eFgC2Fwbw",
        "outputId": "69c578d0-cc74-4f52-aab7-4d742e5dec2c"
      },
      "execution_count": 78,
      "outputs": [
        {
          "output_type": "stream",
          "name": "stderr",
          "text": [
            "Loading required package: ggplot2\n",
            "\n",
            "Loading required package: lattice\n",
            "\n",
            "Warning message in system(\"timedatectl\", intern = TRUE):\n",
            "“running command 'timedatectl' had status 1”\n"
          ]
        }
      ]
    },
    {
      "cell_type": "code",
      "execution_count": 82,
      "metadata": {
        "id": "Ri_uP9Hf-hvZ"
      },
      "outputs": [],
      "source": [
        "# import datasets\n",
        "raw_train <- read.csv('mnist_train.csv',header = FALSE)\n",
        "raw_test <- read.csv('mnist_test.csv', header = FALSE)"
      ]
    },
    {
      "cell_type": "code",
      "source": [
        "train <- cbind(raw_train[,1], round(raw_train[,2:ncol(raw_train)]/255))\n",
        "test <- cbind(raw_test[,1], round(raw_test[,2:ncol(raw_test)]/255))"
      ],
      "metadata": {
        "id": "Y2RlilgmC2xJ"
      },
      "execution_count": 83,
      "outputs": []
    },
    {
      "cell_type": "markdown",
      "source": [
        "# Question 1"
      ],
      "metadata": {
        "id": "oDYttKf2-4s8"
      }
    },
    {
      "cell_type": "code",
      "source": [
        "# priors is first column class(intensity) divided by number of rows\n",
        "prior_table = round(table(train[,1])/ nrow(train),3)\n",
        "prior_table = as.data.frame(prior_table)\n",
        "colnames(prior_table) <- c(\"Class\", \"Priors\")\n",
        "prior_table"
      ],
      "metadata": {
        "colab": {
          "base_uri": "https://localhost:8080/",
          "height": 429
        },
        "id": "ymlrH5yJ-y_G",
        "outputId": "f3078bf8-2600-40ed-c365-d0185fdd1059"
      },
      "execution_count": 84,
      "outputs": [
        {
          "output_type": "display_data",
          "data": {
            "text/html": [
              "<table class=\"dataframe\">\n",
              "<caption>A data.frame: 10 × 2</caption>\n",
              "<thead>\n",
              "\t<tr><th scope=col>Class</th><th scope=col>Priors</th></tr>\n",
              "\t<tr><th scope=col>&lt;fct&gt;</th><th scope=col>&lt;dbl&gt;</th></tr>\n",
              "</thead>\n",
              "<tbody>\n",
              "\t<tr><td>0</td><td>0.099</td></tr>\n",
              "\t<tr><td>1</td><td>0.112</td></tr>\n",
              "\t<tr><td>2</td><td>0.099</td></tr>\n",
              "\t<tr><td>3</td><td>0.102</td></tr>\n",
              "\t<tr><td>4</td><td>0.097</td></tr>\n",
              "\t<tr><td>5</td><td>0.090</td></tr>\n",
              "\t<tr><td>6</td><td>0.099</td></tr>\n",
              "\t<tr><td>7</td><td>0.104</td></tr>\n",
              "\t<tr><td>8</td><td>0.098</td></tr>\n",
              "\t<tr><td>9</td><td>0.099</td></tr>\n",
              "</tbody>\n",
              "</table>\n"
            ],
            "text/markdown": "\nA data.frame: 10 × 2\n\n| Class &lt;fct&gt; | Priors &lt;dbl&gt; |\n|---|---|\n| 0 | 0.099 |\n| 1 | 0.112 |\n| 2 | 0.099 |\n| 3 | 0.102 |\n| 4 | 0.097 |\n| 5 | 0.090 |\n| 6 | 0.099 |\n| 7 | 0.104 |\n| 8 | 0.098 |\n| 9 | 0.099 |\n\n",
            "text/latex": "A data.frame: 10 × 2\n\\begin{tabular}{ll}\n Class & Priors\\\\\n <fct> & <dbl>\\\\\n\\hline\n\t 0 & 0.099\\\\\n\t 1 & 0.112\\\\\n\t 2 & 0.099\\\\\n\t 3 & 0.102\\\\\n\t 4 & 0.097\\\\\n\t 5 & 0.090\\\\\n\t 6 & 0.099\\\\\n\t 7 & 0.104\\\\\n\t 8 & 0.098\\\\\n\t 9 & 0.099\\\\\n\\end{tabular}\n",
            "text/plain": [
              "   Class Priors\n",
              "1  0     0.099 \n",
              "2  1     0.112 \n",
              "3  2     0.099 \n",
              "4  3     0.102 \n",
              "5  4     0.097 \n",
              "6  5     0.090 \n",
              "7  6     0.099 \n",
              "8  7     0.104 \n",
              "9  8     0.098 \n",
              "10 9     0.099 "
            ]
          },
          "metadata": {}
        }
      ]
    },
    {
      "cell_type": "markdown",
      "source": [
        "# Question Number 2"
      ],
      "metadata": {
        "id": "_aIr8pxR-9Et"
      }
    },
    {
      "cell_type": "code",
      "source": [
        "# seperate by 10 categories\n",
        "categories <- lapply(0:9, function(x) train[train[, 1] == x, -1])\n",
        "likelyhood <- lapply(1:5, function(k) lapply (categories, function(x) (colSums(x) + k)/(nrow(x) + k * 2)))\n",
        "\n",
        "k = cbind(c(round(1 - likelyhood[[1]][[6]][682], 3), round(1 - likelyhood[[5]][[6]][682], 3)), \n",
        "                 c(round(likelyhood[[1]][[10]][772], 3), round(likelyhood[[5]][[10]][772], 3))) \n",
        "                                              \n",
        "rownames(k) = c('K = 1', 'K = 5')\n",
        "colnames(k) = c('P(F682=0|class=5)', 'P(F772=1|class=9)')                                              \n",
        "\n",
        "k"
      ],
      "metadata": {
        "colab": {
          "base_uri": "https://localhost:8080/",
          "height": 129
        },
        "id": "QPQNClT8-97u",
        "outputId": "fac23866-485e-4c9d-8a37-4f71714cb2a2"
      },
      "execution_count": 85,
      "outputs": [
        {
          "output_type": "display_data",
          "data": {
            "text/html": [
              "<table class=\"dataframe\">\n",
              "<caption>A matrix: 2 × 2 of type dbl</caption>\n",
              "<thead>\n",
              "\t<tr><th></th><th scope=col>P(F682=0|class=5)</th><th scope=col>P(F772=1|class=9)</th></tr>\n",
              "</thead>\n",
              "<tbody>\n",
              "\t<tr><th scope=row>K = 1</th><td>0.85</td><td>0.001</td></tr>\n",
              "\t<tr><th scope=row>K = 5</th><td>0.85</td><td>0.002</td></tr>\n",
              "</tbody>\n",
              "</table>\n"
            ],
            "text/markdown": "\nA matrix: 2 × 2 of type dbl\n\n| <!--/--> | P(F682=0|class=5) | P(F772=1|class=9) |\n|---|---|---|\n| K = 1 | 0.85 | 0.001 |\n| K = 5 | 0.85 | 0.002 |\n\n",
            "text/latex": "A matrix: 2 × 2 of type dbl\n\\begin{tabular}{r|ll}\n  & P(F682=0\\textbar{}class=5) & P(F772=1\\textbar{}class=9)\\\\\n\\hline\n\tK = 1 & 0.85 & 0.001\\\\\n\tK = 5 & 0.85 & 0.002\\\\\n\\end{tabular}\n",
            "text/plain": [
              "      P(F682=0|class=5) P(F772=1|class=9)\n",
              "K = 1 0.85              0.001            \n",
              "K = 5 0.85              0.002            "
            ]
          },
          "metadata": {}
        }
      ]
    },
    {
      "cell_type": "markdown",
      "source": [],
      "metadata": {
        "id": "SNzrFgEV_AEG"
      }
    },
    {
      "cell_type": "markdown",
      "source": [
        "# Question 3"
      ],
      "metadata": {
        "id": "oDVpfCKn_W_m"
      }
    },
    {
      "cell_type": "code",
      "source": [
        "# similiar to soln of final \n",
        "\n",
        "MaxPosteriori <- apply(test[,-1], MARGIN = 1, function(r){\n",
        "    # cycle Ks\n",
        "    lapply(1:5, function(k){\n",
        "        # cycle through and apply function described in paragraph above\n",
        "        # use log to avoid underflow \n",
        "        lapply(1:10, function(class){\n",
        "            sum(log(likelyhood[[k]][[class]][c(which(r == 1))])) + \n",
        "            sum(log(1-likelyhood[[k]][[class]][c(which(r == 0))])) + \n",
        "            log(prior_table$Priors[[class]])}\n",
        "              )\n",
        "    })\n",
        "})"
      ],
      "metadata": {
        "id": "zqd1HiuRBPwB"
      },
      "execution_count": 88,
      "outputs": []
    },
    {
      "cell_type": "code",
      "source": [
        "# using function above.\n",
        "# input format should be [1][k][target class]\n",
        "# here target class 6 translates to pixel being a 5 in data\n",
        "# here target class 8 translates to pixel being a 7 in data\n",
        "\n",
        "k1 <- cbind(c(round(MaxPosteriori[[1]][[1]][[6]], 3), round(MaxPosteriori[[1]][[5]][[6]], 3)), \n",
        "                  c(round(MaxPosteriori[[1]][[1]][[8]], 3), round(MaxPosteriori[[1]][[5]][[8]], 3)))\n",
        "\n",
        "colnames(k1) = c('P(class = 5|f1, f2, ..., f784)', 'P(class = 7|f1, f2, ..., f784)')\n",
        "rownames(k1) = c('K = 1', 'K = 5')\n",
        "\n",
        "k1"
      ],
      "metadata": {
        "colab": {
          "base_uri": "https://localhost:8080/",
          "height": 129
        },
        "id": "GmHd-iwgBP04",
        "outputId": "85d5ec90-8335-41ec-c4fd-f4612d8843bc"
      },
      "execution_count": 90,
      "outputs": [
        {
          "output_type": "display_data",
          "data": {
            "text/html": [
              "<table class=\"dataframe\">\n",
              "<caption>A matrix: 2 × 2 of type dbl</caption>\n",
              "<thead>\n",
              "\t<tr><th></th><th scope=col>P(class = 5|f1, f2, ..., f784)</th><th scope=col>P(class = 7|f1, f2, ..., f784)</th></tr>\n",
              "</thead>\n",
              "<tbody>\n",
              "\t<tr><th scope=row>K = 1</th><td>-206.095</td><td>-114.630</td></tr>\n",
              "\t<tr><th scope=row>K = 5</th><td>-205.915</td><td>-115.022</td></tr>\n",
              "</tbody>\n",
              "</table>\n"
            ],
            "text/markdown": "\nA matrix: 2 × 2 of type dbl\n\n| <!--/--> | P(class = 5|f1, f2, ..., f784) | P(class = 7|f1, f2, ..., f784) |\n|---|---|---|\n| K = 1 | -206.095 | -114.630 |\n| K = 5 | -205.915 | -115.022 |\n\n",
            "text/latex": "A matrix: 2 × 2 of type dbl\n\\begin{tabular}{r|ll}\n  & P(class = 5\\textbar{}f1, f2, ..., f784) & P(class = 7\\textbar{}f1, f2, ..., f784)\\\\\n\\hline\n\tK = 1 & -206.095 & -114.630\\\\\n\tK = 5 & -205.915 & -115.022\\\\\n\\end{tabular}\n",
            "text/plain": [
              "      P(class = 5|f1, f2, ..., f784) P(class = 7|f1, f2, ..., f784)\n",
              "K = 1 -206.095                       -114.630                      \n",
              "K = 5 -205.915                       -115.022                      "
            ]
          },
          "metadata": {}
        }
      ]
    },
    {
      "cell_type": "markdown",
      "source": [
        "# Question 4"
      ],
      "metadata": {
        "id": "OQMvRo2i_vKq"
      }
    },
    {
      "cell_type": "code",
      "source": [
        "# go through every k. For that k extract max values as this owuld be prediciton for pixel ...\n",
        "predictions <- lapply(1:5, function(k){\n",
        "    lapply(1: nrow(test), function(x) which.max(MaxPosteriori[[x]][[k]]) -1)\n",
        "           })\n",
        "    \n",
        "# make confusion matrix. Got this from online and modified \n",
        "Confusion = lapply(1:5, function(k) confusionMatrix(as.factor(unlist(predictions[k])), as.factor(test[,1])) )\n",
        "                   \n",
        "# create table to anser\n",
        "k2 <- lapply(1:5, function(k) Confusion[[k]]$overall[[1]])\n",
        "print(k2)"
      ],
      "metadata": {
        "colab": {
          "base_uri": "https://localhost:8080/"
        },
        "id": "ZYd8Q6Zd_xyl",
        "outputId": "17e3d941-23ec-4923-c3ba-a5175f359009"
      },
      "execution_count": 91,
      "outputs": [
        {
          "output_type": "stream",
          "name": "stdout",
          "text": [
            "[[1]]\n",
            "[1] 0.8426\n",
            "\n",
            "[[2]]\n",
            "[1] 0.8425\n",
            "\n",
            "[[3]]\n",
            "[1] 0.8419\n",
            "\n",
            "[[4]]\n",
            "[1] 0.8417\n",
            "\n",
            "[[5]]\n",
            "[1] 0.8412\n",
            "\n"
          ]
        }
      ]
    },
    {
      "cell_type": "code",
      "source": [
        "Predicts_k <- max_indices-1\n",
        "true_labels <- Test_raw[, 1]\n",
        "accuracy <- sapply(1:ncol(Predicts_k), function(col_idx) {\n",
        "  correct_predictions <- sum(true_labels == Predicts_k[, col_idx])\n",
        "  total_predictions <- length(true_labels)\n",
        "  return(correct_predictions / total_predictions)\n",
        "})\n",
        "print(accuracy)"
      ],
      "metadata": {
        "colab": {
          "base_uri": "https://localhost:8080/"
        },
        "id": "W7DYvBlIALMh",
        "outputId": "7dd625d8-0942-4bc1-87c1-9c7be4b43b65"
      },
      "execution_count": 92,
      "outputs": [
        {
          "output_type": "stream",
          "name": "stdout",
          "text": [
            "[1] 0.8426 0.8425 0.8419 0.8417 0.8412\n"
          ]
        }
      ]
    },
    {
      "cell_type": "markdown",
      "source": [
        "# Question 5"
      ],
      "metadata": {
        "id": "uwYfn2mUAPnD"
      }
    },
    {
      "cell_type": "code",
      "source": [
        "# best k is 1 so get confusion matrix 1 \n",
        "Confusion <- t(Confusion[[1]]$table)\n",
        "round(Confusion / matrix(c(rep(colSums(Confusion),10)), byrow=TRUE, nrow=10) * 100,2)"
      ],
      "metadata": {
        "colab": {
          "base_uri": "https://localhost:8080/",
          "height": 225
        },
        "id": "bJJSeH26ASCl",
        "outputId": "4db75700-a005-4265-aa5d-b2ed8c328201"
      },
      "execution_count": 93,
      "outputs": [
        {
          "output_type": "display_data",
          "data": {
            "text/plain": [
              "         Prediction\n",
              "Reference     0     1     2     3     4     5     6     7     8     9\n",
              "        0 91.68  0.00  0.32  0.38  0.10  6.18  2.19  0.11  1.71  0.00\n",
              "        1  0.00 88.80  0.64  0.47  0.00  1.09  0.42  0.00  2.52  0.00\n",
              "        2  1.77  1.14 88.98  3.00  2.20  0.61  2.93  1.70  5.73  0.18\n",
              "        3  0.42  1.39  3.81 78.71  0.10  3.64  0.73  1.38  4.43  1.68\n",
              "        4  0.21  0.57  0.42  0.00 83.47  0.24  1.67  0.21  1.21 12.26\n",
              "        5  1.66  0.90  0.53  9.94  2.51 79.39  1.88  0.85  2.41  2.20\n",
              "        6  1.77  1.14  1.59  0.09  1.46  4.48 89.13  0.00  0.70  0.00\n",
              "        7  0.21  2.70  1.80  0.28  1.78  0.00  0.00 92.01  2.52  5.91\n",
              "        8  1.04  2.29  1.27  6.38  1.67  3.27  1.04  0.64 76.66  3.09\n",
              "        9  1.25  1.06  0.64  0.75  6.69  1.09  0.00  3.09  2.11 74.69"
            ]
          },
          "metadata": {}
        }
      ]
    }
  ]
}